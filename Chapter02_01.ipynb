{
 "cells": [
  {
   "cell_type": "code",
   "execution_count": 97,
   "metadata": {},
   "outputs": [
    {
     "name": "stderr",
     "output_type": "stream",
     "text": [
      "\n",
      "\n",
      "====== WebDriver manager ======\n",
      "Current google-chrome version is 98.0.4758\n",
      "Get LATEST chromedriver version for 98.0.4758 google-chrome\n",
      "Driver [C:\\Users\\richk\\.wdm\\drivers\\chromedriver\\win32\\98.0.4758.80\\chromedriver.exe] found in cache\n"
     ]
    },
    {
     "name": "stdout",
     "output_type": "stream",
     "text": [
      "https://namu.wiki/w/%ED%8B%80:EFL%20%EC%B1%94%ED%94%BC%EC%96%B8%EC%8B%AD\n",
      "https://namu.wiki/w/%ED%8B%80:%ED%94%84%EB%A6%AC%EB%AF%B8%EC%96%B4%20%EB%A6%AC%EA%B7%B8\n",
      "https://namu.wiki/w/%EB%B8%8C%EB%9D%BC%EC%9D%B4%ED%8A%BC%20%EC%95%A4%20%ED%98%B8%EB%B8%8C%20%EC%95%8C%EB%B9%84%EC%98%A8%20FC\n",
      "https://namu.wiki/w/%EB%85%B8%EB%A6%AC%EC%B9%98%20%EC%8B%9C%ED%8B%B0%20FC\n",
      "https://namu.wiki/w/%EB%A6%AC%EC%A6%88%20%EC%9C%A0%EB%82%98%EC%9D%B4%ED%8B%B0%EB%93%9C%20FC\n",
      "https://namu.wiki/w/%ED%8B%80:%EC%84%B8%EA%B3%84%20%EC%B6%95%EA%B5%AC%20%EC%A3%BC%EC%9A%94%20%EB%A6%AC%EA%B7%B8%20%EB%B0%8F%20%EB%8C%80%ED%91%9C%ED%8C%80/%EB%91%98%EB%9F%AC%EB%B3%B4%EA%B8%B0%20%ED%8B%80\n",
      "https://namu.wiki/w/%EC%95%84%EC%8A%A4%ED%86%A4%20%EB%B9%8C%EB%9D%BC%20FC\n",
      "https://namu.wiki/w/%ED%94%84%EB%A6%AC%EB%AF%B8%EC%96%B4%20%EB%A6%AC%EA%B7%B8\n",
      "https://namu.wiki/w/%EC%9B%A8%EC%8A%A4%ED%8A%B8%ED%96%84%20%EC%9C%A0%EB%82%98%EC%9D%B4%ED%8B%B0%EB%93%9C%20FC\n"
     ]
    }
   ],
   "source": [
    "from selenium import webdriver\n",
    "from selenium.webdriver.chrome.service import Service\n",
    "from webdriver_manager.chrome import ChromeDriverManager\n",
    "from selenium.webdriver.common.by import By\n",
    "from bs4 import BeautifulSoup\n",
    "import re\n",
    "import pandas as pd\n",
    "import numpy as np\n",
    "import matplotlib.pyplot as plt\n",
    "\n",
    "s=Service(ChromeDriverManager().install())\n",
    "driver = webdriver.Chrome(service=s)\n",
    "driver.maximize_window()\n",
    "\n",
    "source_url = \"https://namu.wiki/w/%EB%A7%A8%EC%B2%B4%EC%8A%A4%ED%84%B0%20%EC%8B%9C%ED%8B%B0%20FC\"\n",
    "\n",
    "driver.get(source_url)\n",
    "driver.implicitly_wait(10)\n",
    "\n",
    "req = driver.page_source\n",
    "\n",
    "soup = BeautifulSoup(req, \"html.parser\")\n",
    "#print(soup.prettify())\n",
    "contents_table = soup.find(name=\"table\")\n",
    "#print(contents_table)\n",
    "table_body = contents_table.find(name=\"tbody\")\n",
    "table_rows = table_body.find_all(name=\"tr\")\n",
    "\n",
    "page_url_base = \"https://namu.wiki\"\n",
    "page_urls = []\n",
    "for index in range(0, len(table_rows)):\n",
    "    first_td = table_rows[index].find_all('td')[0]\n",
    "    td_url = first_td.find_all(\"a\")\n",
    "    if len(td_url) > 0:\n",
    "        page_url = page_url_base + td_url[0].get('href')\n",
    "        if \"png\" not in page_url:\n",
    "            page_urls.append(page_url)\n",
    "\n",
    "page_urls = list(set(page_urls))\n",
    "for page in page_urls:\n",
    "    print(page)\n",
    "\n",
    "driver.close()"
   ]
  },
  {
   "cell_type": "code",
   "execution_count": 98,
   "metadata": {},
   "outputs": [
    {
     "name": "stdout",
     "output_type": "stream",
     "text": [
      "브라이튼 앤 호브 알비온 FC \n",
      "\n",
      "\n",
      "브라이튼 앤 호브 알비온 FC\n",
      "\n",
      "\n",
      "   은(는) 여기로 연결됩니다. 2021-22 시즌에 대한 내용은 브라이튼 앤 호브 알비온 FC/2021-22 시즌 문서를의 번 문단을의  부분을, 에 대한 내용은  문서를의 번 문단을의 번 문단을의  부분을의  부분을, 에 대한 내용은  문서를의 번 문단을의 번 문단을의  부분을의  부분을, 에 대한 내용은  문서를의 번 문단을의 번 문단을의  부분을의  부분을, 에 대한 내용은  문서를의 번 문단을의 번 문단을의  부분을의  부분을, 에 대한 내용은  문서를의 번 문단을의 번 문단을의  부분을의  부분을, 에 대한 내용은  문서를의 번 문단을의 번 문단을의  부분을의  부분을, 에 대한 내용은  문서를의 번 문단을의 번 문단을의  부분을의  부분을, 에 대한 내용은  문서를의 번 문단을의 번 문단을의  부분을의  부분을, 에 대한 내용은  문서를의 번 문단을의 번 문단을의  부분을의  부분을 참고하십시오.**<<</\\/\\/\\/\\>>>**참가 클럽 (2021–22)**<<</\\/\\/\\/\\>>>** [ 펼치기 · 접기 ]노리치뉴캐슬레스터리버풀리즈맨시티맨유번리브라이튼 브렌트포드사우스햄튼아스날아스톤 빌라에버튼왓포드울버햄튼웨스트햄첼시토트넘팰리스 ▶ 프리미어 리그｜ 리그 1｜ 에레디비시 디비전 A｜ 프리미어십｜ 내셔널디비전 프리미어 디비전｜ 컴리 프리미어전세계 리그 및 대표팀 보기**<<</\\/\\/\\/\\>>>**노리치**<<</\\/\\/\\/\\>>>**뉴캐슬**<<</\\/\\/\\/\\>>>**레스터**<<</\\/\\/\\/\\>>>**리버풀**<<</\\/\\/\\/\\>>>**리즈**<<</\\/\\/\\/\\>>>**맨시티**<<</\\/\\/\\/\\>>>**맨유**<<</\\/\\/\\/\\>>>**번리**<<</\\/\\/\\/\\>>>**브라이튼**<<</\\/\\/\\/\\>>>** 브렌트포드**<<</\\/\\/\\/\\>>>**사우스햄튼**<<</\\/\\/\\/\\>>>**아스날**<<</\\/\\/\\/\\>>>**아스톤 빌라**<<</\\/\\/\\/\\>>>**에버튼**<<</\\/\\/\\/\\>>>**왓포드**<<</\\/\\/\\/\n"
     ]
    }
   ],
   "source": [
    "driver = webdriver.Chrome(service=s)\n",
    "driver.maximize_window()\n",
    "\n",
    "driver.get(page_urls[2])\n",
    "req = driver.page_source\n",
    "soup = BeautifulSoup(req, \"html.parser\")\n",
    "contents_table =  soup.find(name=\"article\")\n",
    "\n",
    "title = contents_table.find_all('h1')[0]\n",
    "category = contents_table.find_all('ul')[0]\n",
    "content_paragraphs = contents_table.find_all(name=\"div\", attrs = {\"class\":\"wiki-paragraph\"})\n",
    "content_corpus_list = []\n",
    "\n",
    "for paragraphs in content_paragraphs:\n",
    "    content_corpus_list.append(paragraphs.text)\n",
    "content_corpus = \"**<<</\\/\\/\\/\\>>>**\".join(content_corpus_list)\n",
    "\n",
    "print(title.text)\n",
    "print(\"\\n\")\n",
    "print(category.text)\n",
    "print(\"\\n\")\n",
    "print(content_corpus[:1000])\n",
    "\n",
    "driver.close()"
   ]
  },
  {
   "cell_type": "code",
   "execution_count": 101,
   "metadata": {},
   "outputs": [
    {
     "name": "stdout",
     "output_type": "stream",
     "text": [
      "['https://ko.wikipedia.org//wiki/%EC%8B%A0%EC%82%AC%EC%99%80_%EC%95%84%EA%B0%80%EC%94%A8', 'https://ko.wikipedia.org//wiki/%EC%9D%B4%EC%97%90%EB%A6%AC%EC%82%AC', 'https://ko.wikipedia.org//wiki/%EC%9C%BC%EB%9D%BC%EC%B0%A8%EC%B0%A8_%EB%82%B4_%EC%9D%B8%EC%83%9D', 'https://ko.wikipedia.org//wiki/%EB%B0%80%ED%81%AC%EC%B4%88%EC%BD%94-%EC%98%A8%EB%9D%BC%EC%9D%B8FPS', 'https://ko.wikipedia.org//wiki/%ED%91%B8%EB%93%A4', 'https://ko.wikipedia.org//wiki/%EC%82%AC%EC%9A%A9%EC%9E%90%ED%86%A0%EB%A1%A0:Dand_music', 'https://ko.wikipedia.org//wiki/%ED%8F%AC%ED%95%AD_%ED%9D%A5%ED%95%B4%ED%96%A5%EA%B5%90_%EC%9D%B4%ED%8C%9D%EB%82%98%EB%AC%B4_%EA%B5%B0%EB%9D%BD', 'https://ko.wikipedia.org//wiki/%EB%A7%88%EC%9A%B0%EB%A6%AC%EC%95%84_%EC%A0%9C%EA%B5%AD', 'https://ko.wikipedia.org//wiki/%EB%84%A5%EC%8A%A8_%EC%B9%B4%ED%8A%B8%EB%9D%BC%EC%9D%B4%EB%8D%94_%EB%A6%AC%EA%B7%B8_2022_%EC%8B%9C%EC%A6%8C_1', 'https://ko.wikipedia.org//wiki/%EB%A6%AC%EB%A9%94%EC%8A%A4', 'https://ko.wikipedia.org//wiki/%ED%95%9C%EA%B5%AD%EC%B2%A0%EB%8F%84%EA%B3%B5%EC%82%AC_341000%ED%98%B8%EB%8C%80_%EC%A0%84%EB%8F%99%EC%B0%A8', 'https://ko.wikipedia.org//wiki/%ED%94%84%EB%9D%BC%ED%81%AC%EB%A6%AC%ED%8A%B8%EC%96%B4%EA%B5%B0', 'https://ko.wikipedia.org//wiki/%EB%AF%BC%EC%A3%BC%EC%A3%BC%EC%9D%98_%EC%A7%80%EC%88%98', 'https://ko.wikipedia.org//wiki/%EC%97%90%EC%8A%A4%ED%86%A0%EB%8B%88%EC%95%84_%EB%8F%85%EB%A6%BD_%EC%84%A0%EC%96%B8%EC%84%9C', 'https://ko.wikipedia.org//wiki/%EB%AA%AC%EC%8A%A4%ED%84%B0_%EA%B7%BC%EB%AC%B4%EC%9D%BC%EC%A7%80', 'https://ko.wikipedia.org//wiki/%EC%9D%B8%EB%94%94%EC%95%84_%ED%8E%98%EC%9D%BC_%EC%97%90%EC%9D%BC', 'https://ko.wikipedia.org//wiki/%EA%B2%BD%EC%83%81%EB%B6%81%EB%8F%84%EC%9D%98_%EA%B8%B0%EB%85%90%EB%AC%BC_(%EC%A0%9C1%ED%98%B8_~_%EC%A0%9C100%ED%98%B8)', 'https://ko.wikipedia.org//wiki/%EC%9C%A0%EC%86%8C%EC%97%B0', 'https://ko.wikipedia.org//wiki/%EC%95%84%EB%B9%A0%EB%8A%94_%EC%8B%9C%EC%9E%A5%EB%8B%98', 'https://ko.wikipedia.org//wiki/%EB%A3%A8%EB%A5%B4%EC%A7%80%EB%B0%A9_%EC%A7%80%EC%97%AD%EC%9E%AC%EC%83%9D%EC%A0%95%EC%B1%85', 'https://ko.wikipedia.org//wiki/%EC%82%AC%EC%9A%A9%EC%9E%90%ED%86%A0%EB%A1%A0:%ED%82%A4%ED%8E%98%EB%B4%87', 'https://ko.wikipedia.org//wiki/%EC%9D%B4%EC%9E%AC%EB%AA%85', 'https://ko.wikipedia.org//wiki/%EC%97%90%EC%8A%A4%ED%86%A0%EB%8B%88%EC%95%84_%EB%8F%85%EB%A6%BD_%EC%A0%84%EC%9F%81', 'https://ko.wikipedia.org//wiki/%EA%B5%AD%EA%B0%80%EB%8C%80%ED%91%9C_%EC%99%80%EC%9D%B4%ED%94%84', 'https://ko.wikipedia.org//wiki/%EC%95%95%EA%B5%AC%EC%A0%95_%EC%A2%85%EA%B0%93%EC%A7%91', 'https://ko.wikipedia.org//wiki/2021%EB%85%84~2022%EB%85%84_%EB%9F%AC%EC%8B%9C%EC%95%84-%EC%9A%B0%ED%81%AC%EB%9D%BC%EC%9D%B4%EB%82%98_%EC%9C%84%EA%B8%B0', 'https://ko.wikipedia.org//wiki/%EB%8B%A5%EC%8A%A4%ED%9B%88%ED%8A%B8', 'https://ko.wikipedia.org//wiki/%EC%95%84%EC%9E%90%EC%9D%B4_%EC%B9%B8', 'https://ko.wikipedia.org//wiki/MBC_100%EB%B6%84_%ED%86%A0%EB%A1%A0', 'https://ko.wikipedia.org//wiki/%ED%97%88_(%EC%84%B1%EC%94%A8)', 'https://ko.wikipedia.org//wiki/%EC%82%AC%EB%9E%91%EC%9D%98_%EA%BD%88%EB%B0%B0%EA%B8%B0', 'https://ko.wikipedia.org//wiki/%EA%B0%80%EB%A0%A4%EC%9B%80', 'https://ko.wikipedia.org//wiki/%EB%84%A4%ED%81%AC%EB%A1%9C%ED%8F%AC%EB%B9%84%EC%95%84', 'https://ko.wikipedia.org//wiki/%EC%9E%A5%ED%95%98%EB%82%98_(1992%EB%85%84)', 'https://ko.wikipedia.org//wiki/%EC%9D%B4%EA%B2%BD%ED%98%B8_(%EA%B3%A4%EC%96%91_%EA%B5%B0%EC%88%98)', 'https://ko.wikipedia.org//wiki/%EC%9C%84%ED%82%A4%EB%B0%B1%EA%B3%BC:%EC%82%AC%EC%9A%A9%EC%9E%90_%EA%B4%80%EB%A6%AC_%EC%9A%94%EC%B2%AD/2022%EB%85%84_%EC%A0%9C6%EC%A3%BC']\n"
     ]
    }
   ],
   "source": [
    "\"\"\"Beautiful Soup을 이용한 위키피디아 웹 크롤링하기\"\"\"\n",
    "\n",
    "source_url = \"https://ko.wikipedia.org/wiki/%ED%8A%B9%EC%88%98:%EC%B5%9C%EA%B7%BC%EB%B0%94%EB%80%9C?hidebots=1&hidecategorization=1&hideWikibase=1&limit=50&days=7&urlversion=2\"\n",
    "\n",
    "driver = webdriver.Chrome(service=s)\n",
    "driver.maximize_window()\n",
    "\n",
    "driver.get(source_url)\n",
    "req = driver.page_source\n",
    "soup = BeautifulSoup(req, \"html.parser\")\n",
    "contents_table = soup.find(name=\"ul\", class_=\"special\")\n",
    "contents_list = contents_table.find_all(name=\"span\", attrs={\"class\":\"mw-title\"})\n",
    "\n",
    "page_url_base = \"https://ko.wikipedia.org/\"\n",
    "page_urls = []\n",
    "for index in range(0, len(contents_list)):\n",
    "    url = contents_list[index].find_all('a')\n",
    "    if len(url) > 0:\n",
    "        url_address = page_url_base + url[0].get('href')\n",
    "        if 'png' not in url_address:\n",
    "            page_urls.append(url_address)\n",
    "            #print(url_address)\n",
    "#print(contents_list)\n",
    "page_urls = list(set(page_urls))\n",
    "print(page_urls)\n",
    "driver.close()"
   ]
  },
  {
   "cell_type": "code",
   "execution_count": 111,
   "metadata": {},
   "outputs": [
    {
     "data": {
      "text/html": [
       "<div>\n",
       "<style scoped>\n",
       "    .dataframe tbody tr th:only-of-type {\n",
       "        vertical-align: middle;\n",
       "    }\n",
       "\n",
       "    .dataframe tbody tr th {\n",
       "        vertical-align: top;\n",
       "    }\n",
       "\n",
       "    .dataframe thead th {\n",
       "        text-align: right;\n",
       "    }\n",
       "</style>\n",
       "<table border=\"1\" class=\"dataframe\">\n",
       "  <thead>\n",
       "    <tr style=\"text-align: right;\">\n",
       "      <th></th>\n",
       "      <th>title</th>\n",
       "      <th>category</th>\n",
       "      <th>content_text</th>\n",
       "    </tr>\n",
       "  </thead>\n",
       "  <tbody>\n",
       "    <tr>\n",
       "      <th>0</th>\n",
       "      <td>신사와 아가씨</td>\n",
       "      <td>2021년 드라마/2022년 드라마/한국방송공사 주말연속극/가족 드라마/대한민국의 ...</td>\n",
       "      <td>《신사와 아가씨》는 2021년 9월 25일부터 2022년 3월 27일까지 방영 중인...</td>\n",
       "    </tr>\n",
       "    <tr>\n",
       "      <th>1</th>\n",
       "      <td>이에리사</td>\n",
       "      <td>대한민국의 제19대 국회의원/1954년 출생/살아있는 사람/대한민국의 여자 탁구 선...</td>\n",
       "      <td>이에리사(李에리사, 1954년 8월 15일 ~ )는 대한민국의 정치가 겸 대학 교수...</td>\n",
       "    </tr>\n",
       "    <tr>\n",
       "      <th>2</th>\n",
       "      <td>으라차차 내 인생</td>\n",
       "      <td></td>\n",
       "      <td>비고: 방송시작 직전 시간 관계상 출연자 소개를 하지 않을 수 있음 《으라차차 내 ...</td>\n",
       "    </tr>\n",
       "    <tr>\n",
       "      <th>3</th>\n",
       "      <td>밀크초코-온라인FPS</td>\n",
       "      <td>대한민국의 비디오 게임/2017년 비디오 게임/3인칭 슈팅 게임</td>\n",
       "      <td>밀크초코-온라인FPS(영어: MilkChoco-OnlineFPS, 약칭: 밀초)는 ...</td>\n",
       "    </tr>\n",
       "    <tr>\n",
       "      <th>4</th>\n",
       "      <td>푸들</td>\n",
       "      <td>프랑스산 개 품종/독일산 개 품종/조렵견</td>\n",
       "      <td>푸들(영어: poodle)은 개의 품종 중 하나이며, 프랑스의 국견이다. 과거의 푸...</td>\n",
       "    </tr>\n",
       "  </tbody>\n",
       "</table>\n",
       "</div>"
      ],
      "text/plain": [
       "         title                                           category  \\\n",
       "0      신사와 아가씨  2021년 드라마/2022년 드라마/한국방송공사 주말연속극/가족 드라마/대한민국의 ...   \n",
       "1         이에리사  대한민국의 제19대 국회의원/1954년 출생/살아있는 사람/대한민국의 여자 탁구 선...   \n",
       "2    으라차차 내 인생                                                      \n",
       "3  밀크초코-온라인FPS                대한민국의 비디오 게임/2017년 비디오 게임/3인칭 슈팅 게임   \n",
       "4           푸들                             프랑스산 개 품종/독일산 개 품종/조렵견   \n",
       "\n",
       "                                        content_text  \n",
       "0  《신사와 아가씨》는 2021년 9월 25일부터 2022년 3월 27일까지 방영 중인...  \n",
       "1  이에리사(李에리사, 1954년 8월 15일 ~ )는 대한민국의 정치가 겸 대학 교수...  \n",
       "2  비고: 방송시작 직전 시간 관계상 출연자 소개를 하지 않을 수 있음 《으라차차 내 ...  \n",
       "3  밀크초코-온라인FPS(영어: MilkChoco-OnlineFPS, 약칭: 밀초)는 ...  \n",
       "4  푸들(영어: poodle)은 개의 품종 중 하나이며, 프랑스의 국견이다. 과거의 푸...  "
      ]
     },
     "execution_count": 111,
     "metadata": {},
     "output_type": "execute_result"
    }
   ],
   "source": [
    "\"\"\"위키피디아의 최근 변경 데이터 크롤링\"\"\"\n",
    "\n",
    "columns = ['title', 'category','content_text']\n",
    "df = pd.DataFrame(columns = columns)\n",
    "\n",
    "\n",
    "for page_url in page_urls:\n",
    "    driver = webdriver.Chrome(service=s)\n",
    "    driver.maximize_window()\n",
    "    driver.get(page_url)\n",
    "    req=driver.page_source\n",
    "    soup = BeautifulSoup(req, \"html.parser\")\n",
    "    contents_table = soup.find_all(name=\"p\")\n",
    "    del contents_table[0] #로그아웃한... 를 지워줌\n",
    "    #print(contents_table)\n",
    "\n",
    "    titles = soup.find_all(name=\"h1\")[0]\n",
    "\n",
    "    if soup.find(name=\"div\", attrs={\"id\":\"mw-normal-catlinks\"}) is not None:\n",
    "        if len(soup.find(name=\"div\", attrs={\"id\":\"mw-normal-catlinks\"}))>0:\n",
    "            category_html = soup.find(name=\"div\", attrs={\"id\":\"mw-normal-catlinks\"})\n",
    "            category = category_html.find_all(name=\"li\")\n",
    "        else:\n",
    "            category = None\n",
    "    else:\n",
    "        category = None\n",
    "    content_corpus_list=[]\n",
    "\n",
    "    if titles is not None:\n",
    "        row_title = titles.text.replace(\"\\n\", \" \")\n",
    "    else:\n",
    "        row_title = \"\"\n",
    "\n",
    "    if contents_table is not None:\n",
    "        for paragraphs in contents_table:\n",
    "            if paragraphs is not None:\n",
    "                content_corpus_list.append(paragraphs.text.replace(\"\\n\",\" \"))\n",
    "            else:\n",
    "                content_corpus_list.append(\"\")\n",
    "    else:\n",
    "        content_corpus_list.append(\"\")\n",
    "\n",
    "    row_category=[]\n",
    "    if category is not None:\n",
    "        for each_category in category:\n",
    "            if each_category is not None:\n",
    "                row_category.append(each_category.text.replace(\"\\n\", \" \"))\n",
    "            else:\n",
    "                row_category.append(\"\")\n",
    "    else:\n",
    "        row_category.append(\"\")\n",
    "\n",
    "    row = [row_title, \"/\".join(row_category), \"\".join(content_corpus_list)]\n",
    "\n",
    "    series = pd.Series(row, index=df.columns)\n",
    "    df = df.append(series, ignore_index=True)\n",
    "\n",
    "    driver.close()\n",
    "\n",
    "df.head()"
   ]
  },
  {
   "cell_type": "code",
   "execution_count": 117,
   "metadata": {},
   "outputs": [
    {
     "name": "stdout",
     "output_type": "stream",
     "text": [
      "신사와 아가씨는 년 월 일부터 년 월 일까지 방영 중인   주말 드라마이다 자신의 선택에 책임을 다하고 행복을 찾아가는 신사와 아가씨가 만나면서 벌어지는 파란만장한 이야기 현재 잠정 중단된 프로그램  유동적으로 편성되는 프로그램  연중 회 방송되는 프로그램    와 동시중계되는 프로그램 \n"
     ]
    }
   ],
   "source": [
    "def text_cleaning(text):\n",
    "    hangul = re.compile('[^ ㄱ-ㅣ가-힣]+') #한글의 정규표현식\n",
    "    result = hangul.sub('', text)\n",
    "    return result\n",
    "\n",
    "print(text_cleaning(df['content_text'][0]))"
   ]
  }
 ],
 "metadata": {
  "interpreter": {
   "hash": "8ee059dbf15924801874cc7560127b88a8697bc140c8ffa047476dfce7bb1abc"
  },
  "kernelspec": {
   "display_name": "Python 3.10.1 64-bit",
   "language": "python",
   "name": "python3"
  },
  "language_info": {
   "codemirror_mode": {
    "name": "ipython",
    "version": 3
   },
   "file_extension": ".py",
   "mimetype": "text/x-python",
   "name": "python",
   "nbconvert_exporter": "python",
   "pygments_lexer": "ipython3",
   "version": "3.10.1"
  },
  "orig_nbformat": 4
 },
 "nbformat": 4,
 "nbformat_minor": 2
}
